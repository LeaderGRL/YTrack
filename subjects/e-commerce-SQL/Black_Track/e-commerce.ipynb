{
 "cells": [
  {
   "cell_type": "markdown",
   "id": "022a0f40",
   "metadata": {},
   "source": [
    "# Analyzing e-commerce data"
   ]
  },
  {
   "cell_type": "markdown",
   "id": "661bcef6",
   "metadata": {},
   "source": [
    "Your csv file contains information about the sales of the products you choose. The release year, genre, ratings and number of sales for different territories are present in this file."
   ]
  },
  {
   "cell_type": "markdown",
   "id": "6e885667",
   "metadata": {},
   "source": [
    "## Getting started with the dataset\n"
   ]
  },
  {
   "cell_type": "code",
   "execution_count": 2,
   "id": "0fc102f4",
   "metadata": {},
   "outputs": [],
   "source": [
    "# Use the pandas library to read your csv file"
   ]
  },
  {
   "cell_type": "code",
   "execution_count": 3,
   "id": "056faae5",
   "metadata": {},
   "outputs": [],
   "source": [
    "# How many columns does it contains?"
   ]
  },
  {
   "cell_type": "code",
   "execution_count": 4,
   "id": "aff66f13",
   "metadata": {},
   "outputs": [],
   "source": [
    "# How many **unique** product are reported in this dataset?"
   ]
  },
  {
   "cell_type": "markdown",
   "id": "c2b31462",
   "metadata": {},
   "source": [
    "## Data analyze"
   ]
  },
  {
   "cell_type": "code",
   "execution_count": 5,
   "id": "625821c7",
   "metadata": {},
   "outputs": [],
   "source": [
    "# What is the oldest release year? The most recent?"
   ]
  },
  {
   "cell_type": "code",
   "execution_count": 6,
   "id": "500a0a40",
   "metadata": {},
   "outputs": [],
   "source": [
    "# How many different publishers are present? List them"
   ]
  },
  {
   "cell_type": "code",
   "execution_count": 7,
   "id": "7db5ee47",
   "metadata": {},
   "outputs": [],
   "source": [
    "# Count the number product released for each category.\n",
    "# Sort them in increasing order, and print them in a \n",
    "# horizontal bar graph."
   ]
  },
  {
   "cell_type": "code",
   "execution_count": 8,
   "id": "151bb3ec",
   "metadata": {},
   "outputs": [],
   "source": [
    "# Print with a plot line the global sales for each year.\n",
    "# What was the most selling year?"
   ]
  },
  {
   "cell_type": "code",
   "execution_count": 9,
   "id": "64c89574",
   "metadata": {},
   "outputs": [],
   "source": [
    "# What are the top 10 most selling product?"
   ]
  },
  {
   "cell_type": "code",
   "execution_count": 10,
   "id": "e8c989a4",
   "metadata": {},
   "outputs": [],
   "source": [
    "# Use a **pie** chart to visualize the sales of the different\n",
    "# category"
   ]
  },
  {
   "cell_type": "code",
   "execution_count": 11,
   "id": "d871fc04",
   "metadata": {},
   "outputs": [],
   "source": [
    "# What are the top 10 best selling product in one category of your choice?"
   ]
  },
  {
   "cell_type": "code",
   "execution_count": 12,
   "id": "0d8b23c5",
   "metadata": {},
   "outputs": [],
   "source": [
    "# What is the average \"price\" for America invoices? "
   ]
  },
  {
   "cell_type": "code",
   "execution_count": 13,
   "id": "b0e02048",
   "metadata": {},
   "outputs": [],
   "source": [
    "# Find the ratio of invoices between America and Europe"
   ]
  },
  {
   "cell_type": "code",
   "execution_count": 14,
   "id": "5d2d34a9",
   "metadata": {},
   "outputs": [],
   "source": [
    "# What is/are the most rated product(s) ?"
   ]
  },
  {
   "cell_type": "code",
   "execution_count": 15,
   "id": "893cc422",
   "metadata": {},
   "outputs": [],
   "source": [
    "# what is the most rated product considering the number of people who rate this one"
   ]
  },
  {
   "cell_type": "code",
   "execution_count": 16,
   "id": "7bc84aea",
   "metadata": {},
   "outputs": [],
   "source": [
    "# What is the number of invoice containing the product find before ?\n",
    "# What can you conclude about this ?"
   ]
  },
  {
   "cell_type": "code",
   "execution_count": null,
   "id": "3ccfa878",
   "metadata": {},
   "outputs": [],
   "source": []
  }
 ],
 "metadata": {
  "kernelspec": {
   "display_name": "Python 3",
   "language": "python",
   "name": "python3"
  },
  "language_info": {
   "codemirror_mode": {
    "name": "ipython",
    "version": 3
   },
   "file_extension": ".py",
   "mimetype": "text/x-python",
   "name": "python",
   "nbconvert_exporter": "python",
   "pygments_lexer": "ipython3",
   "version": "3.8.8"
  }
 },
 "nbformat": 4,
 "nbformat_minor": 5
}
